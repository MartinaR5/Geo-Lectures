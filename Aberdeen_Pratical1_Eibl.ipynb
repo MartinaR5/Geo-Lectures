{
 "cells": [
  {
   "cell_type": "markdown",
   "metadata": {},
   "source": [
    "# Topics in Advanced Applied Geophysics:\n",
    "\n"
   ]
  },
  {
   "cell_type": "markdown",
   "metadata": {},
   "source": [
    "## Practical 1 – Eibl\n",
    "\n",
    "Write a python code that solves the 5 tasks below. Please submit your code and images via\n",
    "myAberdeen by March, 16th 17:00.\n",
    "\n",
    "   * If you would like to develop your code online, go to: [Jupyter](https://try.jupyter.org/)\n",
    "    \n",
    "    \n",
    "   * Option 1: Click on  <font color='red'>Try Jupyter with Python</font>\n",
    "        * Shift + Enter: Execute cell and jump to the next cell\n",
    "        * Ctrl/Cmd + Enter: Execute cell and don't jump to the next cell\n",
    "    \n",
    "    \n",
    "   * Option 2: Click on <font color='red'>Try JupyterLab</font>\n",
    "        * Click on ‘file’ -> ‘new’ -> ‘Python 3’\n",
    "        * Type your code in the console\n",
    "        * Shift + Enter: Execute cell and jump to the next cell\n",
    "        * Ctrl/Cmd + Enter: Execute cell and don't jump to the next cell\n",
    "    \n",
    "    \n",
    "   * Getting help by using ? operator after an object, e.g: \n",
    "       ```python\n",
    "        print?\n",
    "       ```\n",
    "   * Google! You’re not the first one with the problem\n"
   ]
  },
  {
   "cell_type": "markdown",
   "metadata": {},
   "source": [
    "## Tasks:"
   ]
  },
  {
   "cell_type": "markdown",
   "metadata": {},
   "source": [
    "1. Write a program that asks the user for their name and greets them. \n",
    "\n",
    "        Request: \n",
    "            Only the users Alice and Bob are greeted with their names all others are greeted without name.\n",
    "\n",
    "\n",
    "2. Write a program that asks the user for a number <font style=\"font-weight:bold\">n</font> and prints the sum of the numbers 1 to <font style=\"font-weight:bold\">n</font>. \n",
    "\n",
    "        Request: \n",
    "            Only multiples of three or five are considered in the sum. \n",
    "                e.g. 3, 5, 6, 9, 10, 12, 15 for n=17\n",
    "\n",
    "3. Write a guessing game where the user has to guess a secret number. \n",
    "\n",
    "        Requests:\n",
    "            After every guess the program tells the user whether their number was too large or too small. \n",
    "            At the end the number of tries needed should be printed alongside the correct guess.\n",
    "\n",
    "4. Write a function that combines two lists by alternatingly taking elements, <font style=\"font-weight:bold\">e.g.   [a, b, c] + [1, 2, 3] → [ a, 1, b, 2, c, 3]</font>.\n",
    "\n",
    "        Request:\n",
    "            Check that the lists have the same length. Add a docstring.\n",
    "\n",
    "5. Write a function <font style=\"font-weight:bold\">A</font> (with docstring) that takes 3 arguments a NumPy array  <font style=\"font-weight:bold\">x</font>, and two floats <font style=\"font-weight:bold\">a</font> and <font style=\"font-weight:bold\">b</font>, then returns $f(x)=ax^3 +b$. Write a second function <font style=\"font-weight:bold\">B</font> (with docstring) that takes the same arguments <font style=\"font-weight:bold\">x, a, b</font> than <font style=\"font-weight:bold\">A</font> but returns $f(x)=-ax^3 -b$, instead. \n",
    "\n",
    "        Requests:\n",
    "            Plot the result of the two functions with matplotlib. \n",
    "            Color A with a dotted red line and B with a dashed blue line. \n",
    "            Label the x and y axis and add a legend in the upper right corner to label the curves A and B. \n",
    "            \n",
    "        Hint: to display the plot you need “plt.show()” as last line."
   ]
  },
  {
   "cell_type": "markdown",
   "metadata": {},
   "source": [
    "# Topics in Advanced Applied Geophysics:"
   ]
  },
  {
   "cell_type": "markdown",
   "metadata": {},
   "source": [
    "## Practical 2 – Eibl\n",
    "\n",
    "Write an obspy/ python code that solves the 3 tasks below and a short text addressing the 4th question.\n",
    "Please submit your code, images and responses via myAberdeen by March, 20 th 12:00.\n",
    "\n",
    "   * If you would like to develop your code online, go to: [Seismo Live](http://krischer.github.io/seismo_live/) Launch a new notebook. \n",
    "   \n",
    "       * Scroll down to Obspy, click on “view all” \n",
    "       * Click on “new” then “python 3”\n",
    "    \n",
    "    \n",
    "   * Create your own environment:\n",
    "       * Install jupyter nootebook using anaconda [Install](https://jupyter.org/install.html)\n",
    "       * Open Anaconda and lauch jupyter nootebook.\n",
    "       * To install Obspy in your environment open a jupyter nootebook and run:\n",
    "               \n",
    "               import sys\n",
    "               !conda install --yes --prefix {sys.prefix} obspy\n",
    "       \n",
    "    \n",
    "   * Getting help by using ? operator after an object, e.g: \n",
    "  ```python\n",
    "    print?\n",
    "  ```  \n",
    "    \n",
    "   * Google! You’re not the first one with the problem"
   ]
  },
  {
   "cell_type": "markdown",
   "metadata": {},
   "source": [
    "## Tasks:"
   ]
  },
  {
   "cell_type": "markdown",
   "metadata": {},
   "source": [
    "1. Peter, James, Anne and Louise birthdays are listed below: \n",
    "\n",
    "|Name  | Year | Month | Day | Hour | Minute | Second |\n",
    "|------|------|-------|-----|------|--------|--------|\n",
    "|Peter | 1995 |   06  |  23 |   20 |   33   |   09   |\n",
    "|James | 1995 |   09  |  25 |  19  |   50   |   07   |\n",
    "|Anne  | 1993 |   12  |  23 |  14  |   59   |   00   |\n",
    "|Louise| 1997 |   10  |  26 |  00  |   58   |   52   |\n",
    "    \n",
    "        Requests:\n",
    "            Calculate and print the number of days between their birthdays.\n",
    "            Calculate and print their age on the screen.\n",
    "            Print a message that states who is the oldest one.\n",
    "            Print a message that states whose birthday is the next one coming up.\n",
    "        \n",
    "        hint: from obspy import UTCDateTime\n",
    "        \n",
    "2. Read in the traces from \"./data/waveform_PFO.mseed\". Filter the first trace from 0.1-0.5 Hz, 0.5-1.5 Hz, 1.5-5.5 Hz and 5.5-10 Hz.\n",
    "\n",
    "        Requestes:\n",
    "            Create a plot with 8 subfigures in which you plot the filtered traces as seismograms and\n",
    "            spectrograms (hint: create a for loop). Label all the axes.\n",
    "            Limit the y-axis of the spectrograms to the frequency band the data was filtered to.\n",
    "            \n",
    "        Note: make a copy of the original trace as the filtering is done in place and modifies the trace.\n",
    "        \n",
    "3. Create a numpy.ndarray with zeros, <font style=\"font-weight:bold\">e.g. numpy.zeros()</font>, and modify the entries at a regular spacing in order to simulate a comb function. \n",
    "\n",
    "\n",
    "        Requests:\n",
    "            - Initialize a Trace object with your data array. \n",
    "            - Plot a seismogram and spectrogram of the trace as subfigures in 1 plot. \n",
    "            - Label the axes and add a colorbar.\n",
    "            \n",
    "        Questions:\n",
    "            - Change the window length used to create the spectrogram. What happens if you make it very long or very short (hint: time-frequency resolution)?\n",
    "            - Change the spacing of the peaks in the comb function. What happens in the spectrogram?           \n",
    "            - Given the assumption that harmonic tremor is composed of repeating events. What is the approximate repeat time and frequency content of the repeating event that can be derived from the two spectrograms below? Why?\n",
    "            Hint: Think about the spectrogram of a comb function and the spectrogram of an event on its own and imagine then the spectrogram of tremor which is a convolution of an event with a comb function.\n",
    "\n",
    "<img src=\"images/spectrograms.png\"/>"
   ]
  },
  {
   "cell_type": "code",
   "execution_count": null,
   "metadata": {},
   "outputs": [],
   "source": []
  }
 ],
 "metadata": {
  "kernelspec": {
   "display_name": "Python 3",
   "language": "python",
   "name": "python3"
  },
  "language_info": {
   "codemirror_mode": {
    "name": "ipython",
    "version": 3
   },
   "file_extension": ".py",
   "mimetype": "text/x-python",
   "name": "python",
   "nbconvert_exporter": "python",
   "pygments_lexer": "ipython3",
   "version": "3.7.2"
  }
 },
 "nbformat": 4,
 "nbformat_minor": 2
}
