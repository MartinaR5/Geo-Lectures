{
 "cells": [
  {
   "cell_type": "markdown",
   "metadata": {},
   "source": [
    "# Functions in Python\n",
    "\n",
    "In program langues what is usully refer to as function is not necessarly a function in a mathematical sense. In program language a function as define in math would be refered to as a <font style=\"font-weight:bold\">pure function</font>, otherwise, we can call it a <font style=\"font-weight:bold\">method</font>.\n",
    "\n",
    "#### Syntax to define a function in python:\n",
    "```python\n",
    "def function_name(parameters):\n",
    "    # function logic\n",
    "    return (optional)\n",
    "```\n",
    "\n",
    "<font style=\"font-weight:bold\">Pure function: </font> Has one or more enter parameters as input (numbers) and return a value (number)\n",
    "\n",
    "\n",
    "<font style=\"font-weight:bold\">Methods: </font> May have or not parameters as input (any type), do something with it and may or not return something."
   ]
  },
  {
   "cell_type": "markdown",
   "metadata": {},
   "source": [
    "## My first method\n",
    "\n",
    "It's always a good pratice to name your method with something that describes what it is doing. "
   ]
  },
  {
   "cell_type": "code",
   "execution_count": 1,
   "metadata": {},
   "outputs": [
    {
     "name": "stdout",
     "output_type": "stream",
     "text": [
      "Hello world\n"
     ]
    }
   ],
   "source": [
    "def print_hello_word():\n",
    "    print(\"Hello world\")\n",
    " \n",
    "# call method\n",
    "print_hello_word()"
   ]
  },
  {
   "cell_type": "markdown",
   "metadata": {},
   "source": [
    "It is also a good practice to include doc string on your functions, describing what it does and what is expect as parameters and what it returns. Below we did a doc using PEP8 convention."
   ]
  },
  {
   "cell_type": "code",
   "execution_count": 2,
   "metadata": {},
   "outputs": [
    {
     "data": {
      "text/plain": [
       "7.0649999999999995"
      ]
     },
     "execution_count": 2,
     "metadata": {},
     "output_type": "execute_result"
    }
   ],
   "source": [
    "def disk_area(radius):\n",
    "    '''\n",
    "    Computes the area of a disk.\n",
    "    @param radius: expect to be a float. The radius of the disk.\n",
    "    return: The disk's area.\n",
    "    '''\n",
    "    return 3.14*radius*radius\n",
    "\n",
    "disk_area(1.5)"
   ]
  },
  {
   "cell_type": "code",
   "execution_count": 3,
   "metadata": {},
   "outputs": [
    {
     "name": "stdout",
     "output_type": "stream",
     "text": [
      "HelloHello\n",
      "4\n"
     ]
    }
   ],
   "source": [
    "def double_it(x):\n",
    "    '''\n",
    "    Double the given value.\n",
    "    @param x: The value to be double.\n",
    "    return: The double value.\n",
    "    '''\n",
    "    return x * 2\n",
    "\n",
    "hello = double_it(\"Hello\")\n",
    "val = double_it(2)\n",
    "print(hello)\n",
    "print(val)"
   ]
  },
  {
   "cell_type": "markdown",
   "metadata": {},
   "source": [
    "We can also define optional parameters in a function. \n",
    "\n",
    "    Optional parameters are known as default parameters."
   ]
  },
  {
   "cell_type": "code",
   "execution_count": 4,
   "metadata": {},
   "outputs": [
    {
     "name": "stdout",
     "output_type": "stream",
     "text": [
      "Pure coffee done!!\n",
      "Coffe with milk done!!\n"
     ]
    }
   ],
   "source": [
    "def make_coffee(add_milk = False):\n",
    "    if add_milk:\n",
    "        print(\"Coffe with milk done!!\")\n",
    "    else:\n",
    "        print(\"Pure coffee done!!\")\n",
    "\n",
    "make_coffee()\n",
    "make_coffee(add_milk=True)"
   ]
  },
  {
   "cell_type": "markdown",
   "metadata": {},
   "source": [
    "### Function as argument\n",
    "\n",
    "One powerful feature of python is that a function can be passed to another function effortless. In other program languages, this usually is not a straightforward task.\n",
    "\n",
    "In python, we can simply do this:"
   ]
  },
  {
   "cell_type": "code",
   "execution_count": 5,
   "metadata": {},
   "outputs": [
    {
     "name": "stdout",
     "output_type": "stream",
     "text": [
      "5 + 10 = 15\n",
      "5 - 10 = -5\n"
     ]
    }
   ],
   "source": [
    "def add(x, y):\n",
    "    return x + y\n",
    "\n",
    "def subtract(x, y):\n",
    "    return x - y\n",
    "\n",
    "# You can use any name for func, although is a convention to use func for function parameters. \n",
    "def apply_func(func, x, y):\n",
    "    return func(x, y)\n",
    "\n",
    "a = 5\n",
    "b = 10\n",
    "\n",
    "a_plus_b = apply_func(add, a, b)\n",
    "a_minus_b = apply_func(subtract, a, b)\n",
    "\n",
    "print(\"{} + {} = {}\".format(a, b, a_plus_b))\n",
    "print(\"{} - {} = {}\".format(a, b, a_minus_b))"
   ]
  },
  {
   "cell_type": "markdown",
   "metadata": {},
   "source": [
    "### Lambda expressions\n",
    "\n",
    "Lambdas are one line functions. They are also known as anonymous functions in some other languages. You might want to use lambdas when you don’t want to use a function twice in a program. They are just like normal functions and even behave like them."
   ]
  },
  {
   "cell_type": "code",
   "execution_count": 6,
   "metadata": {},
   "outputs": [
    {
     "name": "stdout",
     "output_type": "stream",
     "text": [
      "5 * 10 = 50\n"
     ]
    }
   ],
   "source": [
    "a_times_b = apply_func(lambda x,y: x * y, a, b)\n",
    "print(\"{} * {} = {}\".format(a, b, a_times_b))"
   ]
  },
  {
   "cell_type": "markdown",
   "metadata": {},
   "source": [
    "### Decorators\n",
    "\n",
    "Decorators provide a way to modify functions using other functions. \n",
    "This is ideal when you need to extend the functionality of functions that you don't want to modify.\n",
    "\n",
    "To learn more about it go to [Decorators](http://book.pythontips.com/en/latest/decorators.html)"
   ]
  },
  {
   "cell_type": "code",
   "execution_count": 7,
   "metadata": {},
   "outputs": [
    {
     "name": "stdout",
     "output_type": "stream",
     "text": [
      "============\n",
      "Hello world!\n",
      "============\n"
     ]
    }
   ],
   "source": [
    "def print_nice(func):\n",
    "    def wrap(): # use wrap by convetion\n",
    "        print(\"============\")\n",
    "        func()\n",
    "        print(\"============\")\n",
    "    return wrap\n",
    "\n",
    "@print_nice  # decorate this function.\n",
    "def print_text():\n",
    "    print(\"Hello world!\")\n",
    "\n",
    "print_text()"
   ]
  },
  {
   "cell_type": "markdown",
   "metadata": {},
   "source": [
    "### Recursion\n",
    "\n",
    "Recursion is when a function call itself. It is used to solve problems that can be broken up into easier sub-problems of the same type.\n",
    "\n",
    "A typical use of recurtion is to compute the factorial:"
   ]
  },
  {
   "cell_type": "code",
   "execution_count": 8,
   "metadata": {},
   "outputs": [
    {
     "name": "stdout",
     "output_type": "stream",
     "text": [
      "0! = 1\n",
      "1! = 1\n",
      "5! = 120\n",
      "Can't compute the factorial of negative numbers.\n"
     ]
    }
   ],
   "source": [
    "def print_factorial(x, func):\n",
    "    print(\"{}! = {}\".format(x, func))\n",
    "\n",
    "def factorial(x):\n",
    "    # secure that the number is not negative.\n",
    "    if x < 0:\n",
    "        raise ValueError (\"Can't compute the factorial of negative numbers.\")\n",
    "\n",
    "    if x == 1 or x == 0:\n",
    "        return 1\n",
    "    else: \n",
    "        return x * factorial(x-1) # factorial calls itself.\n",
    "    \n",
    "print_factorial(0, factorial(0))\n",
    "print_factorial(1, factorial(1))\n",
    "print_factorial(5, factorial(5))\n",
    "\n",
    "try:\n",
    "    print_factorial(-1, factorial(-1))\n",
    "except ValueError as error:\n",
    "    print(error)"
   ]
  }
 ],
 "metadata": {
  "kernelspec": {
   "display_name": "Python 3",
   "language": "python",
   "name": "python3"
  },
  "language_info": {
   "codemirror_mode": {
    "name": "ipython",
    "version": 3
   },
   "file_extension": ".py",
   "mimetype": "text/x-python",
   "name": "python",
   "nbconvert_exporter": "python",
   "pygments_lexer": "ipython3",
   "version": "3.7.1"
  }
 },
 "nbformat": 4,
 "nbformat_minor": 2
}
